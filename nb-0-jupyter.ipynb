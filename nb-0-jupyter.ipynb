{
 "cells": [
  {
   "cell_type": "markdown",
   "metadata": {},
   "source": [
    "# Notebook 1.0: Jupyter notebooks\n",
    "\n",
    "### Learning objectives\n",
    "This notebook is meant to provide an introduction to using jupyter notebooks, a web-based tool for combining executable code and formatted text. \n",
    "\n",
    "By the end of this notebook you will: \n",
    "\n",
    "1. Be familiar with the jupyter notebook structure.\n",
    "2. Know how to enter text (markdown) or code into notebooks. \n",
    "3. Know how to execute code in notebook cells. "
   ]
  },
  {
   "cell_type": "markdown",
   "metadata": {},
   "source": [
    "### Jupyter notebooks \n",
    "The Jupyter Notebook is a powerful tool for interactively developing and presenting data science projects. It allows you to use a web browser (as opposed to a terminal or other software) to interact with a computer language interpreter (typically Python) to send commands and receive outputs. It then displays the outputs in HTML below the executed cells, and allows users to add rich text comments or annotations around code cells using [markdown](https://en.wikipedia.org/wiki/Markdown) (more on this below)."
   ]
  },
  {
   "cell_type": "markdown",
   "metadata": {},
   "source": [
    "### How we will use notebook\n",
    "\n",
    "We do not have time in this workshop to explore notebooks in great detail, or to spend time on Python coding practices. So we will use notebooks simply as a presentation method for executing pre-written code and visualizing the results.\n",
    "Hopefully if you find this exercise interesting you will revist jupyter notebooks and install the tool locally on your laptop."
   ]
  },
  {
   "cell_type": "markdown",
   "metadata": {},
   "source": [
    "### Markdown cells\n",
    "\n",
    "Markdown is a simple method for *styling* text for web-based documents. Jupyter notebooks combine markdown styled text with executable code cells to provide well documented executable code. "
   ]
  },
  {
   "cell_type": "markdown",
   "metadata": {},
   "source": [
    "### Editing cells\n",
    "You can double click on a cell to edit its contents. Then to execute it again hold down the shift key and press enter **(shift + enter)**. This is also the way to execute code cells. "
   ]
  },
  {
   "cell_type": "markdown",
   "metadata": {},
   "source": [
    "<div class=\"alert alert-success\">\n",
    "    <b>Action:</b> In the markdown cell below convert the top line of text into a level-3 header (large and bold text) by double clicking on the cell so that you can interact with the text, and then adding three hash marks (#) before the first line without any spaces separating the hash marks, and with one space between the hashes and the text (like in the Hello World cell above). Then hold control and press enter to execute the cell. You should see large bold formatted text on the first line, followed by normal formatted text for the second line. If not, try editing the text again, you may have included spaces, or other errors. \n",
    "</div>"
   ]
  },
  {
   "cell_type": "markdown",
   "metadata": {},
   "source": [
    "My first executed Markdown cell\n",
    "\n",
    "The text on the line above this is a level-3 header."
   ]
  },
  {
   "cell_type": "markdown",
   "metadata": {},
   "source": [
    "### Code cells\n",
    "In the toolbar menu you can find options to change the *type* of cells. The two main types we are interested in are Markdown cells, as you just saw above, and *Code* cells, which are used to execute code. Execute the cells below by pressing **(shift + enter)** after selecting each cell with your cursor. "
   ]
  },
  {
   "cell_type": "code",
   "execution_count": 3,
   "metadata": {},
   "outputs": [
    {
     "name": "stdout",
     "output_type": "stream",
     "text": [
      "3\n"
     ]
    }
   ],
   "source": [
    "# store value to the variable x\n",
    "x = 3\n",
    "\n",
    "# print the variable x\n",
    "print(x)"
   ]
  },
  {
   "cell_type": "markdown",
   "metadata": {},
   "source": [
    "### That's it, you are now ready to use jupyter notebooks"
   ]
  }
 ],
 "metadata": {
  "kernelspec": {
   "display_name": "Python 3",
   "language": "python",
   "name": "python3"
  },
  "language_info": {
   "codemirror_mode": {
    "name": "ipython",
    "version": 3
   },
   "file_extension": ".py",
   "mimetype": "text/x-python",
   "name": "python",
   "nbconvert_exporter": "python",
   "pygments_lexer": "ipython3",
   "version": "3.7.8"
  }
 },
 "nbformat": 4,
 "nbformat_minor": 2
}
